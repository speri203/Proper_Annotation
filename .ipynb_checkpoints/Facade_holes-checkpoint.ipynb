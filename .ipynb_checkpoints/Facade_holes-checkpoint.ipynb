{
 "cells": [
  {
   "cell_type": "code",
   "execution_count": 32,
   "metadata": {},
   "outputs": [],
   "source": [
    "import json\n",
    "import os\n",
    "import numpy as np\n",
    "from skimage import draw"
   ]
  },
  {
   "cell_type": "code",
   "execution_count": 33,
   "metadata": {},
   "outputs": [],
   "source": [
    "def polygon_area_calculation(x_inputs, y_inputs):\n",
    "    '''\n",
    "    Function generate a list of all coordinates that are found within the polygon object.\n",
    "    Generates a list of x and y coordinates of the same length (they are pairs). In order to\n",
    "    access the coordinates, step through each list (x_coordiantes, y_coordinates) at the same rate\n",
    "    ie. one for loop with len(x_coordinates)\n",
    "    :param x_inputs: list of x coordinates from the annotated json file\n",
    "    :param y_inputs: list of y coordinates from the annotated json file\n",
    "    :return: x_coordinates, y_coordinates which hold the x and y, respectively, coordinates of the polygon.\n",
    "    '''\n",
    "    r = np.array(x_inputs)\n",
    "    c = np.array(y_inputs)\n",
    "    x_coordinates, y_coordinates = draw.polygon(r, c)\n",
    "    return x_coordinates, y_coordinates"
   ]
  },
  {
   "cell_type": "code",
   "execution_count": 34,
   "metadata": {
    "scrolled": false
   },
   "outputs": [
    {
     "name": "stdout",
     "output_type": "stream",
     "text": [
      "Index: 0 Name: OGIMuseum031720Afternoon\n",
      "Index: 1 Name: OGIMuseum031720Morning(Thermal)\n",
      "Index: 2 Name: OGIMuseum031720Evening\n"
     ]
    }
   ],
   "source": [
    "datasets = []\n",
    "for i, items in enumerate(os.listdir('Datasets')):\n",
    "    datasets.append(items)\n",
    "    print(\"Index: {} Name: {}\".format(i, items))"
   ]
  },
  {
   "cell_type": "code",
   "execution_count": 35,
   "metadata": {},
   "outputs": [
    {
     "name": "stdout",
     "output_type": "stream",
     "text": [
      "Which dataset would you like to use (input index number)0\n",
      "OGIMuseum031720Afternoon\n"
     ]
    }
   ],
   "source": [
    "selected_ds = input(\"Which dataset would you like to use (input index number)\")\n",
    "print(datasets[int(selected_ds)])\n",
    "ann_folder = 'Datasets/' + datasets[int(selected_ds)]"
   ]
  },
  {
   "cell_type": "code",
   "execution_count": 70,
   "metadata": {},
   "outputs": [
    {
     "name": "stdout",
     "output_type": "stream",
     "text": [
      "0824_MWIR.jpg.json\n",
      "0712_MWIR.jpg.json\n",
      "0738_MWIR.jpg.json\n"
     ]
    },
    {
     "ename": "KeyboardInterrupt",
     "evalue": "",
     "output_type": "error",
     "traceback": [
      "\u001b[0;31m---------------------------------------------------------------------------\u001b[0m",
      "\u001b[0;31mKeyboardInterrupt\u001b[0m                         Traceback (most recent call last)",
      "\u001b[0;32m<ipython-input-70-31f81ba8336c>\u001b[0m in \u001b[0;36m<module>\u001b[0;34m\u001b[0m\n\u001b[1;32m     71\u001b[0m                                     \u001b[0mhvac_set\u001b[0m\u001b[0;34m.\u001b[0m\u001b[0mappend\u001b[0m\u001b[0;34m(\u001b[0m\u001b[0;34m[\u001b[0m\u001b[0mhvac_x_coord\u001b[0m\u001b[0;34m[\u001b[0m\u001b[0mi\u001b[0m\u001b[0;34m]\u001b[0m\u001b[0;34m,\u001b[0m \u001b[0mhvac_y_coord\u001b[0m\u001b[0;34m[\u001b[0m\u001b[0mi\u001b[0m\u001b[0;34m]\u001b[0m\u001b[0;34m]\u001b[0m\u001b[0;34m)\u001b[0m\u001b[0;34m\u001b[0m\u001b[0;34m\u001b[0m\u001b[0m\n\u001b[1;32m     72\u001b[0m                                 \u001b[0mhvac_set\u001b[0m \u001b[0;34m=\u001b[0m \u001b[0mset\u001b[0m\u001b[0;34m(\u001b[0m\u001b[0mtuple\u001b[0m\u001b[0;34m(\u001b[0m\u001b[0mx\u001b[0m\u001b[0;34m)\u001b[0m \u001b[0;32mfor\u001b[0m \u001b[0mx\u001b[0m \u001b[0;32min\u001b[0m \u001b[0mhvac_set\u001b[0m\u001b[0;34m)\u001b[0m\u001b[0;34m\u001b[0m\u001b[0;34m\u001b[0m\u001b[0m\n\u001b[0;32m---> 73\u001b[0;31m                                 \u001b[0maltered_facade_set\u001b[0m \u001b[0;34m=\u001b[0m \u001b[0moriginal_facade_set\u001b[0m\u001b[0;34m.\u001b[0m\u001b[0mdifference\u001b[0m\u001b[0;34m(\u001b[0m\u001b[0mhvac_set\u001b[0m\u001b[0;34m)\u001b[0m\u001b[0;34m\u001b[0m\u001b[0;34m\u001b[0m\u001b[0m\n\u001b[0m\u001b[1;32m     74\u001b[0m                                 \u001b[0;31m#print(\"{} {} {}\".format(len(original_facade_set), len(altered_facade_set), len(window_set)))\u001b[0m\u001b[0;34m\u001b[0m\u001b[0;34m\u001b[0m\u001b[0;34m\u001b[0m\u001b[0m\n\u001b[1;32m     75\u001b[0m \u001b[0;34m\u001b[0m\u001b[0m\n",
      "\u001b[0;31mKeyboardInterrupt\u001b[0m: "
     ]
    }
   ],
   "source": [
    "## Open up json file and save all contents of windows, ground, door\n",
    "os.listdir()\n",
    "for files in os.listdir(ann_folder + \"/ann\"):\n",
    "    ## Lists\n",
    "    window_point = []\n",
    "    hvac_point = []\n",
    "    door_points = []\n",
    "    \n",
    "    \n",
    "    \n",
    "    if(files.endswith('.json')):\n",
    "        with open(ann_folder + \"/ann/\" + files) as json_file:\n",
    "            ## Will hold all the coordinates of the specific object\n",
    "            content = json.load(json_file)\n",
    "            for entry in content['objects']:\n",
    "                if(entry['classTitle'] == 'Facade' or entry['classTitle'] == 'Facades'):\n",
    "                    ## create lists to hold x and y coordiantes of the facade\n",
    "                    facade_x = []\n",
    "                    facade_y = []\n",
    "                    facade_set = []\n",
    "                    \n",
    "                    for facade_points in entry['points']['exterior']:\n",
    "                        facade_x.append(facade_points[0])\n",
    "                        facade_y.append(facade_points[1])\n",
    "                    \n",
    "                    ## Fetching all points within polygon and creating a set out of it\n",
    "                    facade_x_coord, facade_y_coord = polygon_area_calculation(facade_x, facade_y)\n",
    "                    for i in range(len(facade_x_coord)):\n",
    "                        facade_set.append([facade_x_coord[i], facade_y_coord[i]])\n",
    "                    facade_set = set(tuple(x) for x in facade_set)\n",
    "                    #print(\"{} {}\".format(len(facade_x_coord), len(facade_y_coord)))\n",
    "                    \n",
    "                    ## Open up same json file and look for objects that could be overlayed on facade\n",
    "                    with open(ann_folder + \"/ann/\" + files) as json_files_2:\n",
    "                        content_2 = json.load(json_files_2)\n",
    "                        for entry_2 in content_2['objects']:\n",
    "                            if(entry_2['classTitle'] == 'Window'):\n",
    "                                window_x = []\n",
    "                                window_y = []\n",
    "                                window_set = []\n",
    "                                original_facade_set = facade_set\n",
    "                                \n",
    "                                ## Load up all coordiantes of window and convert to set\n",
    "                                for window_points in entry_2['points']['exterior']:\n",
    "                                    window_x.append(window_points[0])\n",
    "                                    window_y.append(window_points[1])\n",
    "                                window_x_coord, window_y_coord = polygon_area_calculation(window_x, window_y)\n",
    "                                for i in range(len(window_x_coord)):\n",
    "                                    window_set.append([window_x_coord[i], window_y_coord[i]])\n",
    "                                window_set = set(tuple(x) for x in window_set)\n",
    "                                altered_facade_set = original_facade_set.difference(window_set)\n",
    "                                #print(\"{} {} {}\".format(len(original_facade_set), len(altered_facade_set), len(window_set)))\n",
    "                                \n",
    "                                ## if the length of the two sets are not the same after difference then the window coordiantes need to be added to facade\n",
    "                                if(len(original_facade_set) != len(altered_facade_set)):\n",
    "                                    window_point.append(entry_2['points']['exterior'])\n",
    "                                    entry['points']['interior'].append(entry_2['points']['exterior'])\n",
    "                            \n",
    "                            ## Do the same for HVACS\n",
    "                            if(entry_2['classTitle'] == 'HVAC'):\n",
    "                                hvac_x = []\n",
    "                                hvac_y = []\n",
    "                                hvac_set = []\n",
    "                                original_facade_set = facade_set\n",
    "                                \n",
    "                                ## Load up all coordiantes of window and convert to set\n",
    "                                for hvac_points in entry_2['points']['exterior']:\n",
    "                                    hvac_x.append(hvac_points[0])\n",
    "                                    hvac_y.append(hvac_points[1])\n",
    "                                hvac_x_coord, hvac_y_coord = polygon_area_calculation(hvac_x, hvac_y)\n",
    "                                for i in range(len(hvac_x_coord)):\n",
    "                                    hvac_set.append([hvac_x_coord[i], hvac_y_coord[i]])\n",
    "                                hvac_set = set(tuple(x) for x in hvac_set)\n",
    "                                altered_facade_set = original_facade_set.difference(hvac_set)\n",
    "                                #print(\"{} {} {}\".format(len(original_facade_set), len(altered_facade_set), len(window_set)))\n",
    "                                \n",
    "                                ## if the length of the two sets are not the same after difference then the window coordiantes need to be added to facade\n",
    "                                if(len(original_facade_set) != len(altered_facade_set)):\n",
    "                                    hvac_point.append(entry_2['points']['exterior'])\n",
    "                                    print(files)\n",
    "                                    entry['points']['interior'].append(entry_2['points']['exterior'])\n",
    "                            if(entry_2['classTitle'] == 'Door'):\n",
    "                                print(\"Door\")\n",
    "                    \n",
    "                    \n",
    "        with open(ann_folder + '/proper_ann/' + files, 'w') as writing:\n",
    "            json.dump(content, writing)\n",
    "\n",
    "print(\"Done\")"
   ]
  },
  {
   "cell_type": "code",
   "execution_count": null,
   "metadata": {},
   "outputs": [],
   "source": []
  },
  {
   "cell_type": "code",
   "execution_count": null,
   "metadata": {},
   "outputs": [],
   "source": []
  },
  {
   "cell_type": "code",
   "execution_count": null,
   "metadata": {},
   "outputs": [],
   "source": []
  },
  {
   "cell_type": "code",
   "execution_count": null,
   "metadata": {},
   "outputs": [],
   "source": []
  },
  {
   "cell_type": "code",
   "execution_count": null,
   "metadata": {},
   "outputs": [],
   "source": []
  },
  {
   "cell_type": "code",
   "execution_count": null,
   "metadata": {},
   "outputs": [],
   "source": []
  },
  {
   "cell_type": "code",
   "execution_count": null,
   "metadata": {},
   "outputs": [],
   "source": []
  },
  {
   "cell_type": "code",
   "execution_count": null,
   "metadata": {},
   "outputs": [],
   "source": []
  }
 ],
 "metadata": {
  "kernelspec": {
   "display_name": "Python 3",
   "language": "python",
   "name": "python3"
  },
  "language_info": {
   "codemirror_mode": {
    "name": "ipython",
    "version": 3
   },
   "file_extension": ".py",
   "mimetype": "text/x-python",
   "name": "python",
   "nbconvert_exporter": "python",
   "pygments_lexer": "ipython3",
   "version": "3.8.2"
  }
 },
 "nbformat": 4,
 "nbformat_minor": 4
}
